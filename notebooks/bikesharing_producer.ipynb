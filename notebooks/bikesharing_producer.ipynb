{
 "cells": [
  {
   "cell_type": "code",
   "execution_count": null,
   "metadata": {
    "collapsed": true
   },
   "outputs": [],
   "source": [
    "from __future__ import print_function\n",
    "import socket\n",
    "import json\n",
    "import sys\n",
    "import threading\n",
    "\n",
    "from satori.rtm.client import make_client, SubscriptionMode\n",
    "\n",
    "channel = \"US-Bike-Sharing-Channel\"\n",
    "endpoint = \"wss://open-data.api.satori.com\"\n",
    "appkey = \"650Ce77b5f6f888F14addb8919D8D264\"\n",
    "\n",
    "stream_host = 'localhost'\n",
    "stream_port = 9982\n",
    "\n",
    "def stream_data():\n",
    "    s = socket.socket(socket.AF_INET, socket.SOCK_STREAM)\n",
    "    s.setsockopt(socket.SOL_SOCKET, socket.SO_REUSEADDR, 1)\n",
    "    s.bind((stream_host, stream_port))\n",
    "    print('Waiting for Listener...')\n",
    "    s.listen(10)\n",
    "    conn, addr = s.accept()\n",
    "\n",
    "    with make_client(\n",
    "        endpoint=endpoint, appkey=appkey) as client:\n",
    "        print('Connected!')\n",
    "\n",
    "        mailbox = []\n",
    "        got_message_event = threading.Event()\n",
    "\n",
    "        class SubscriptionObserver(object):\n",
    "            def on_subscription_data(self, data):\n",
    "                for message in data['messages']:\n",
    "                    mailbox.append(message)\n",
    "                    got_message_event.set()\n",
    "\n",
    "        subscription_observer = SubscriptionObserver()\n",
    "        client.subscribe(\n",
    "            channel,\n",
    "            SubscriptionMode.SIMPLE,\n",
    "            subscription_observer)\n",
    "\n",
    "        if not got_message_event.wait(10):\n",
    "            print(\"Timeout while waiting for a message\")\n",
    "            sys.exit(1)\n",
    "\n",
    "        try:\n",
    "            while True:\n",
    "                for message in mailbox:\n",
    "                    # print(message)\n",
    "                    msg_json = json.dumps(message, ensure_ascii=False)\n",
    "                    msg_end = msg_json + '\\n'\n",
    "                    conn.send(msg_end.encode('utf-8'))\n",
    "                    #conn.send(msg_json.encode('utf-8') + '\\n')\n",
    "        except Exception as e:\n",
    "            print(str(e))\n",
    "        finally:\n",
    "            conn.close()"
   ]
  },
  {
   "cell_type": "code",
   "execution_count": null,
   "metadata": {
    "collapsed": false
   },
   "outputs": [],
   "source": [
    "stream_data()"
   ]
  },
  {
   "cell_type": "code",
   "execution_count": null,
   "metadata": {
    "collapsed": true
   },
   "outputs": [],
   "source": []
  }
 ],
 "metadata": {
  "anaconda-cloud": {},
  "kernelspec": {
   "display_name": "PySpark (Python 3, Spark 2.1.0)",
   "language": "python",
   "name": "pyspark3"
  },
  "language_info": {
   "codemirror_mode": {
    "name": "ipython",
    "version": 3
   },
   "file_extension": ".py",
   "mimetype": "text/x-python",
   "name": "python",
   "nbconvert_exporter": "python",
   "pygments_lexer": "ipython3",
   "version": "3.5.3"
  }
 },
 "nbformat": 4,
 "nbformat_minor": 0
}
